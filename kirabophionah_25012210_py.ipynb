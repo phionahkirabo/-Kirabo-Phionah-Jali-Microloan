{
  "cells": [
    {
      "cell_type": "markdown",
      "metadata": {
        "id": "view-in-github",
        "colab_type": "text"
      },
      "source": [
        "<a href=\"https://colab.research.google.com/github/phionahkirabo/-Kirabo-Phionah-Jali-Microloan/blob/master/kirabophionah_25012210_py.ipynb\" target=\"_parent\"><img src=\"https://colab.research.google.com/assets/colab-badge.svg\" alt=\"Open In Colab\"/></a>"
      ]
    },
    {
      "cell_type": "code",
      "source": [
        "# Step 1: Create the initial list\n",
        "names = [\"Kagetera\", \"John\", \"Peter\", \"Alex\", \"Claude\"]\n",
        "\n",
        "# Step 2: Sort the list in descending order\n",
        "names.sort(reverse=True)\n",
        "\n",
        "# Step 3: Add additional names\n",
        "names.append(\"Kirabo\")\n",
        "names.append(\"davis_college\")\n",
        "names.append(\"Phionah\")\n",
        "\n",
        "\n",
        "print(\"Final list:\", names)\n"
      ],
      "metadata": {
        "id": "-OfWJNyRaxfT",
        "outputId": "c09a527a-1dba-4c02-c3b4-8e11850446ad",
        "colab": {
          "base_uri": "https://localhost:8080/"
        }
      },
      "execution_count": null,
      "outputs": [
        {
          "output_type": "stream",
          "name": "stdout",
          "text": [
            "Final list: ['Peter', 'Kagetera', 'John', 'Claude', 'Alex', 'Kirabo', 'davis_college', 'Phionah']\n"
          ]
        }
      ]
    },
    {
      "cell_type": "code",
      "source": [
        "# Define the dictionary of fruit prices per kg\n",
        "prices = {\"Apple\": 1000, \"Banana\": 500, \"Mango\": 1200}\n",
        "\n",
        "# Initialize total cost\n",
        "total_cost = 0\n",
        "\n",
        "# Iterate through the dictionary and print each fruit with its price\n",
        "for fruit, price in prices.items():\n",
        "    print(f\"{fruit}: {price} RWF per kg\")\n",
        "    total_cost += price * 2  # Calculate cost for 2 kg of each fruit\n",
        "\n",
        "\n",
        "print(f\"Total cost for 2kg of each fruit: {total_cost} RWF\")\n"
      ],
      "metadata": {
        "id": "i_w4at4hk9nC",
        "outputId": "33d54b7c-e0dc-477e-9146-ecb78d9f2c95",
        "colab": {
          "base_uri": "https://localhost:8080/"
        }
      },
      "execution_count": null,
      "outputs": [
        {
          "output_type": "stream",
          "name": "stdout",
          "text": [
            "Apple: 1000 RWF per kg\n",
            "Banana: 500 RWF per kg\n",
            "Mango: 1200 RWF per kg\n",
            "Total cost for 2kg of each fruit: 5400 RWF\n"
          ]
        }
      ]
    }
  ],
  "metadata": {
    "colab": {
      "toc_visible": true,
      "provenance": [],
      "include_colab_link": true
    },
    "kernelspec": {
      "display_name": "Python 3",
      "name": "python3"
    }
  },
  "nbformat": 4,
  "nbformat_minor": 0
}